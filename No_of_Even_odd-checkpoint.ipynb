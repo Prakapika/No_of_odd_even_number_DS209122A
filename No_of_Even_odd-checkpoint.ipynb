{
 "cells": [
  {
   "cell_type": "code",
   "execution_count": 4,
   "id": "4369f095",
   "metadata": {},
   "outputs": [
    {
     "name": "stdout",
     "output_type": "stream",
     "text": [
      "No. of odd numbers:  5\n",
      "No. of even numbers:  4\n"
     ]
    }
   ],
   "source": [
    "no = (1,2,3,4,5,6,7,8,9)\n",
    "even = 0\n",
    "odd = 0\n",
    "for i in no:\n",
    "    if i%2 == 0:\n",
    "        even += 1\n",
    "    else:\n",
    "        odd += 1\n",
    "        \n",
    "print(\"No. of odd numbers: \", odd)\n",
    "print(\"No. of even numbers: \", even)"
   ]
  },
  {
   "cell_type": "code",
   "execution_count": null,
   "id": "19d6e385",
   "metadata": {},
   "outputs": [],
   "source": []
  }
 ],
 "metadata": {
  "kernelspec": {
   "display_name": "Python 3 (ipykernel)",
   "language": "python",
   "name": "python3"
  },
  "language_info": {
   "codemirror_mode": {
    "name": "ipython",
    "version": 3
   },
   "file_extension": ".py",
   "mimetype": "text/x-python",
   "name": "python",
   "nbconvert_exporter": "python",
   "pygments_lexer": "ipython3",
   "version": "3.10.6"
  }
 },
 "nbformat": 4,
 "nbformat_minor": 5
}
